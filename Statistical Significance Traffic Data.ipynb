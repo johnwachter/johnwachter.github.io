{
 "cells": [
  {
   "cell_type": "markdown",
   "metadata": {},
   "source": [
    "## Hypothesis Testing | Decrease in Average Daily Traffic Volumes in Seattle, Washington during the Coronavirus Pandemic\n",
    "\n",
    "### The worksheet below examines statistical differences in traffic volumes in Seattle, in an attempt to quantify the reduction in traffic volumes at the onset of the Coronavirus Pandemic to 'normal' traffic volumes.\n",
    "\n",
    "### Data on traffic patterns in Seattle, Washington was collected from the Washington State Department of Transportation's (WSDOT) Traffic GeoPortal in June 2020. WSDOT uses permanent traffic recording devices to measure the number of vehicles per hour that pass by specific locations at every hour of each day. Data was gathered from seven sites in Seattle for the period ranging from January 1, 2018 through March 31, 2020 (the latest data available). After an initial exploration of the data, three sites were selected for further analysis due to significat data gaps in other sites. The three selected sites serve as a proxy for traffic volumes in Seattle due to their locations on major arterials that provide access to the city; the 520 bridge near its entrance to Interstate 5, Interstate 5 at NE 45th Street near the University of Washington, and Interstate 90 near Rainier Avenue. Each of these locations had several missing values, likely due to maintenance being performed on the devices, so a process of imputation was carried out in which missing values were replaced using mean substitution."
   ]
  },
  {
   "cell_type": "markdown",
   "metadata": {},
   "source": [
    "# ----------------------------------------------------------------------------------------------------------------------------------------------------------------------------------------\n",
    "## Import Packages, Read in Data & Prepare it for Analysis\n",
    "# ----------------------------------------------------------------------------------------------------------------------------------------------------------------------------------------"
   ]
  },
  {
   "cell_type": "code",
   "execution_count": 1,
   "metadata": {},
   "outputs": [],
   "source": [
    "import pandas as pd\n",
    "import numpy as np\n",
    "import matplotlib.pyplot as plt\n",
    "from scipy import stats\n",
    "from scipy.stats import t\n",
    "from IPython.display import display, HTML"
   ]
  },
  {
   "cell_type": "code",
   "execution_count": 2,
   "metadata": {},
   "outputs": [
    {
     "data": {
      "text/html": [
       "<style>.container { width:70% !important; }</style>"
      ],
      "text/plain": [
       "<IPython.core.display.HTML object>"
      ]
     },
     "metadata": {},
     "output_type": "display_data"
    }
   ],
   "source": [
    "# Make the notebook's cells larger\n",
    "display(HTML(\"<style>.container { width:70% !important; }</style>\"))"
   ]
  },
  {
   "cell_type": "code",
   "execution_count": 3,
   "metadata": {},
   "outputs": [],
   "source": [
    "traffic = pd.read_csv('CombinedTrafficData_Imputed_Values.csv')"
   ]
  },
  {
   "cell_type": "code",
   "execution_count": 4,
   "metadata": {},
   "outputs": [
    {
     "data": {
      "text/html": [
       "<div>\n",
       "<style scoped>\n",
       "    .dataframe tbody tr th:only-of-type {\n",
       "        vertical-align: middle;\n",
       "    }\n",
       "\n",
       "    .dataframe tbody tr th {\n",
       "        vertical-align: top;\n",
       "    }\n",
       "\n",
       "    .dataframe thead th {\n",
       "        text-align: right;\n",
       "    }\n",
       "</style>\n",
       "<table border=\"1\" class=\"dataframe\">\n",
       "  <thead>\n",
       "    <tr style=\"text-align: right;\">\n",
       "      <th></th>\n",
       "      <th>SiteId</th>\n",
       "      <th>SiteLocation</th>\n",
       "      <th>Date</th>\n",
       "      <th>DayOfWeek</th>\n",
       "      <th>TravelDirection</th>\n",
       "      <th>Hour1</th>\n",
       "      <th>Hour2</th>\n",
       "      <th>Hour3</th>\n",
       "      <th>Hour4</th>\n",
       "      <th>Hour5</th>\n",
       "      <th>...</th>\n",
       "      <th>Hour15</th>\n",
       "      <th>Hour16</th>\n",
       "      <th>Hour17</th>\n",
       "      <th>Hour18</th>\n",
       "      <th>Hour19</th>\n",
       "      <th>Hour20</th>\n",
       "      <th>Hour21</th>\n",
       "      <th>Hour22</th>\n",
       "      <th>Hour23</th>\n",
       "      <th>Hour24</th>\n",
       "    </tr>\n",
       "  </thead>\n",
       "  <tbody>\n",
       "    <tr>\n",
       "      <td>0</td>\n",
       "      <td>R046</td>\n",
       "      <td>On SR 005 at milepost 168.84 A: S/O NE 45TH ST...</td>\n",
       "      <td>1/1/2018</td>\n",
       "      <td>Monday</td>\n",
       "      <td>Northbound</td>\n",
       "      <td>3957</td>\n",
       "      <td>4223</td>\n",
       "      <td>3102</td>\n",
       "      <td>1681</td>\n",
       "      <td>942</td>\n",
       "      <td>...</td>\n",
       "      <td>5072</td>\n",
       "      <td>5050</td>\n",
       "      <td>4972</td>\n",
       "      <td>4555</td>\n",
       "      <td>4083</td>\n",
       "      <td>3815</td>\n",
       "      <td>3147</td>\n",
       "      <td>2742</td>\n",
       "      <td>2068</td>\n",
       "      <td>1943</td>\n",
       "    </tr>\n",
       "    <tr>\n",
       "      <td>1</td>\n",
       "      <td>R046</td>\n",
       "      <td>On SR 005 at milepost 168.84 A: S/O NE 45TH ST...</td>\n",
       "      <td>1/2/2018</td>\n",
       "      <td>Tuesday</td>\n",
       "      <td>Northbound</td>\n",
       "      <td>1252</td>\n",
       "      <td>748</td>\n",
       "      <td>594</td>\n",
       "      <td>532</td>\n",
       "      <td>1076</td>\n",
       "      <td>...</td>\n",
       "      <td>6454</td>\n",
       "      <td>6793</td>\n",
       "      <td>6412</td>\n",
       "      <td>6291</td>\n",
       "      <td>6317</td>\n",
       "      <td>4821</td>\n",
       "      <td>3852</td>\n",
       "      <td>3238</td>\n",
       "      <td>2584</td>\n",
       "      <td>2326</td>\n",
       "    </tr>\n",
       "    <tr>\n",
       "      <td>2</td>\n",
       "      <td>R046</td>\n",
       "      <td>On SR 005 at milepost 168.84 A: S/O NE 45TH ST...</td>\n",
       "      <td>1/3/2018</td>\n",
       "      <td>Wednesday</td>\n",
       "      <td>Northbound</td>\n",
       "      <td>1602</td>\n",
       "      <td>1094</td>\n",
       "      <td>817</td>\n",
       "      <td>633</td>\n",
       "      <td>1039</td>\n",
       "      <td>...</td>\n",
       "      <td>6304</td>\n",
       "      <td>6490</td>\n",
       "      <td>6343</td>\n",
       "      <td>6506</td>\n",
       "      <td>6366</td>\n",
       "      <td>5000</td>\n",
       "      <td>3972</td>\n",
       "      <td>3416</td>\n",
       "      <td>2615</td>\n",
       "      <td>2343</td>\n",
       "    </tr>\n",
       "    <tr>\n",
       "      <td>3</td>\n",
       "      <td>R046</td>\n",
       "      <td>On SR 005 at milepost 168.84 A: S/O NE 45TH ST...</td>\n",
       "      <td>1/4/2018</td>\n",
       "      <td>Thursday</td>\n",
       "      <td>Northbound</td>\n",
       "      <td>1460</td>\n",
       "      <td>982</td>\n",
       "      <td>754</td>\n",
       "      <td>647</td>\n",
       "      <td>1064</td>\n",
       "      <td>...</td>\n",
       "      <td>6367</td>\n",
       "      <td>6441</td>\n",
       "      <td>6173</td>\n",
       "      <td>6300</td>\n",
       "      <td>6220</td>\n",
       "      <td>5282</td>\n",
       "      <td>4184</td>\n",
       "      <td>3708</td>\n",
       "      <td>2862</td>\n",
       "      <td>2488</td>\n",
       "    </tr>\n",
       "    <tr>\n",
       "      <td>4</td>\n",
       "      <td>R046</td>\n",
       "      <td>On SR 005 at milepost 168.84 A: S/O NE 45TH ST...</td>\n",
       "      <td>1/5/2018</td>\n",
       "      <td>Friday</td>\n",
       "      <td>Northbound</td>\n",
       "      <td>1561</td>\n",
       "      <td>968</td>\n",
       "      <td>767</td>\n",
       "      <td>696</td>\n",
       "      <td>1060</td>\n",
       "      <td>...</td>\n",
       "      <td>6253</td>\n",
       "      <td>6515</td>\n",
       "      <td>6158</td>\n",
       "      <td>5969</td>\n",
       "      <td>6188</td>\n",
       "      <td>5240</td>\n",
       "      <td>4138</td>\n",
       "      <td>3864</td>\n",
       "      <td>3421</td>\n",
       "      <td>3482</td>\n",
       "    </tr>\n",
       "  </tbody>\n",
       "</table>\n",
       "<p>5 rows × 29 columns</p>\n",
       "</div>"
      ],
      "text/plain": [
       "  SiteId                                       SiteLocation      Date  \\\n",
       "0   R046  On SR 005 at milepost 168.84 A: S/O NE 45TH ST...  1/1/2018   \n",
       "1   R046  On SR 005 at milepost 168.84 A: S/O NE 45TH ST...  1/2/2018   \n",
       "2   R046  On SR 005 at milepost 168.84 A: S/O NE 45TH ST...  1/3/2018   \n",
       "3   R046  On SR 005 at milepost 168.84 A: S/O NE 45TH ST...  1/4/2018   \n",
       "4   R046  On SR 005 at milepost 168.84 A: S/O NE 45TH ST...  1/5/2018   \n",
       "\n",
       "   DayOfWeek TravelDirection  Hour1  Hour2  Hour3  Hour4  Hour5  ...  Hour15  \\\n",
       "0     Monday      Northbound   3957   4223   3102   1681    942  ...    5072   \n",
       "1    Tuesday      Northbound   1252    748    594    532   1076  ...    6454   \n",
       "2  Wednesday      Northbound   1602   1094    817    633   1039  ...    6304   \n",
       "3   Thursday      Northbound   1460    982    754    647   1064  ...    6367   \n",
       "4     Friday      Northbound   1561    968    767    696   1060  ...    6253   \n",
       "\n",
       "   Hour16  Hour17  Hour18  Hour19  Hour20  Hour21  Hour22  Hour23  Hour24  \n",
       "0    5050    4972    4555    4083    3815    3147    2742    2068    1943  \n",
       "1    6793    6412    6291    6317    4821    3852    3238    2584    2326  \n",
       "2    6490    6343    6506    6366    5000    3972    3416    2615    2343  \n",
       "3    6441    6173    6300    6220    5282    4184    3708    2862    2488  \n",
       "4    6515    6158    5969    6188    5240    4138    3864    3421    3482  \n",
       "\n",
       "[5 rows x 29 columns]"
      ]
     },
     "execution_count": 4,
     "metadata": {},
     "output_type": "execute_result"
    }
   ],
   "source": [
    "traffic.head()"
   ]
  },
  {
   "cell_type": "code",
   "execution_count": 5,
   "metadata": {},
   "outputs": [],
   "source": [
    "# Convert Date string into a Date Format\n",
    "traffic['Date'] = pd.to_datetime(traffic['Date'])"
   ]
  },
  {
   "cell_type": "code",
   "execution_count": 6,
   "metadata": {},
   "outputs": [],
   "source": [
    "# Select January, February, and March as our period of Observation\n",
    "jfm_traffic = traffic[(pd.DatetimeIndex(traffic.Date).month < 4)]"
   ]
  },
  {
   "cell_type": "code",
   "execution_count": 7,
   "metadata": {},
   "outputs": [],
   "source": [
    "# Add a separate column for Year, Month, and Day\n",
    "jfm_traffic = jfm_traffic.assign(Year = pd.DatetimeIndex(jfm_traffic.Date).year,\n",
    "                                 Month = pd.DatetimeIndex(jfm_traffic.Date).month,\n",
    "                                 Day = pd.DatetimeIndex(jfm_traffic.Date).day)"
   ]
  },
  {
   "cell_type": "code",
   "execution_count": 8,
   "metadata": {},
   "outputs": [],
   "source": [
    "# Group the data by date (Year, Month, Day) to collapse Travel Direction.\n",
    "# Before grouping, there are two rows for each date, one for each direction of travel.\n",
    "grouped_traffic = jfm_traffic.groupby(['Year','Month','Day'], as_index= False).sum()"
   ]
  },
  {
   "cell_type": "code",
   "execution_count": 9,
   "metadata": {},
   "outputs": [],
   "source": [
    "# Add a new column that computes the total number of vehicles per day for each observation.\n",
    "grouped_traffic['NumVehicles'] = grouped_traffic.iloc[:,3:27].sum(axis=1)"
   ]
  },
  {
   "cell_type": "code",
   "execution_count": 10,
   "metadata": {},
   "outputs": [
    {
     "data": {
      "text/html": [
       "<div>\n",
       "<style scoped>\n",
       "    .dataframe tbody tr th:only-of-type {\n",
       "        vertical-align: middle;\n",
       "    }\n",
       "\n",
       "    .dataframe tbody tr th {\n",
       "        vertical-align: top;\n",
       "    }\n",
       "\n",
       "    .dataframe thead th {\n",
       "        text-align: right;\n",
       "    }\n",
       "</style>\n",
       "<table border=\"1\" class=\"dataframe\">\n",
       "  <thead>\n",
       "    <tr style=\"text-align: right;\">\n",
       "      <th></th>\n",
       "      <th>Year</th>\n",
       "      <th>Month</th>\n",
       "      <th>Day</th>\n",
       "      <th>Hour1</th>\n",
       "      <th>Hour2</th>\n",
       "      <th>Hour3</th>\n",
       "      <th>Hour4</th>\n",
       "      <th>Hour5</th>\n",
       "      <th>Hour6</th>\n",
       "      <th>Hour7</th>\n",
       "      <th>...</th>\n",
       "      <th>Hour16</th>\n",
       "      <th>Hour17</th>\n",
       "      <th>Hour18</th>\n",
       "      <th>Hour19</th>\n",
       "      <th>Hour20</th>\n",
       "      <th>Hour21</th>\n",
       "      <th>Hour22</th>\n",
       "      <th>Hour23</th>\n",
       "      <th>Hour24</th>\n",
       "      <th>NumVehicles</th>\n",
       "    </tr>\n",
       "  </thead>\n",
       "  <tbody>\n",
       "    <tr>\n",
       "      <td>170</td>\n",
       "      <td>2019</td>\n",
       "      <td>3</td>\n",
       "      <td>22</td>\n",
       "      <td>4183</td>\n",
       "      <td>2489</td>\n",
       "      <td>2232</td>\n",
       "      <td>2537</td>\n",
       "      <td>5386</td>\n",
       "      <td>11337</td>\n",
       "      <td>20481</td>\n",
       "      <td>...</td>\n",
       "      <td>24489</td>\n",
       "      <td>23567</td>\n",
       "      <td>25255</td>\n",
       "      <td>23393</td>\n",
       "      <td>20516</td>\n",
       "      <td>16762</td>\n",
       "      <td>15210</td>\n",
       "      <td>13659</td>\n",
       "      <td>11193</td>\n",
       "      <td>415149</td>\n",
       "    </tr>\n",
       "    <tr>\n",
       "      <td>62</td>\n",
       "      <td>2018</td>\n",
       "      <td>3</td>\n",
       "      <td>4</td>\n",
       "      <td>7712</td>\n",
       "      <td>5692</td>\n",
       "      <td>4506</td>\n",
       "      <td>2459</td>\n",
       "      <td>2186</td>\n",
       "      <td>3839</td>\n",
       "      <td>6868</td>\n",
       "      <td>...</td>\n",
       "      <td>21183</td>\n",
       "      <td>23734</td>\n",
       "      <td>22400</td>\n",
       "      <td>18699</td>\n",
       "      <td>15982</td>\n",
       "      <td>13419</td>\n",
       "      <td>13441</td>\n",
       "      <td>8465</td>\n",
       "      <td>5516</td>\n",
       "      <td>328906</td>\n",
       "    </tr>\n",
       "    <tr>\n",
       "      <td>262</td>\n",
       "      <td>2020</td>\n",
       "      <td>3</td>\n",
       "      <td>23</td>\n",
       "      <td>1668</td>\n",
       "      <td>1046</td>\n",
       "      <td>995</td>\n",
       "      <td>1370</td>\n",
       "      <td>3374</td>\n",
       "      <td>7937</td>\n",
       "      <td>12865</td>\n",
       "      <td>...</td>\n",
       "      <td>15870</td>\n",
       "      <td>15680</td>\n",
       "      <td>14245</td>\n",
       "      <td>11508</td>\n",
       "      <td>8559</td>\n",
       "      <td>6201</td>\n",
       "      <td>4671</td>\n",
       "      <td>3800</td>\n",
       "      <td>2952</td>\n",
       "      <td>219728</td>\n",
       "    </tr>\n",
       "    <tr>\n",
       "      <td>11</td>\n",
       "      <td>2018</td>\n",
       "      <td>1</td>\n",
       "      <td>12</td>\n",
       "      <td>4224</td>\n",
       "      <td>2469</td>\n",
       "      <td>2061</td>\n",
       "      <td>2387</td>\n",
       "      <td>4840</td>\n",
       "      <td>10932</td>\n",
       "      <td>20081</td>\n",
       "      <td>...</td>\n",
       "      <td>24006</td>\n",
       "      <td>23587</td>\n",
       "      <td>23474</td>\n",
       "      <td>21923</td>\n",
       "      <td>19183</td>\n",
       "      <td>15043</td>\n",
       "      <td>14168</td>\n",
       "      <td>13287</td>\n",
       "      <td>10451</td>\n",
       "      <td>402114</td>\n",
       "    </tr>\n",
       "    <tr>\n",
       "      <td>240</td>\n",
       "      <td>2020</td>\n",
       "      <td>3</td>\n",
       "      <td>1</td>\n",
       "      <td>7044</td>\n",
       "      <td>4825</td>\n",
       "      <td>3885</td>\n",
       "      <td>2113</td>\n",
       "      <td>1975</td>\n",
       "      <td>3685</td>\n",
       "      <td>6828</td>\n",
       "      <td>...</td>\n",
       "      <td>23565</td>\n",
       "      <td>22639</td>\n",
       "      <td>21147</td>\n",
       "      <td>18208</td>\n",
       "      <td>15790</td>\n",
       "      <td>13190</td>\n",
       "      <td>10723</td>\n",
       "      <td>7453</td>\n",
       "      <td>5371</td>\n",
       "      <td>319040</td>\n",
       "    </tr>\n",
       "  </tbody>\n",
       "</table>\n",
       "<p>5 rows × 28 columns</p>\n",
       "</div>"
      ],
      "text/plain": [
       "     Year  Month  Day  Hour1  Hour2  Hour3  Hour4  Hour5  Hour6  Hour7  ...  \\\n",
       "170  2019      3   22   4183   2489   2232   2537   5386  11337  20481  ...   \n",
       "62   2018      3    4   7712   5692   4506   2459   2186   3839   6868  ...   \n",
       "262  2020      3   23   1668   1046    995   1370   3374   7937  12865  ...   \n",
       "11   2018      1   12   4224   2469   2061   2387   4840  10932  20081  ...   \n",
       "240  2020      3    1   7044   4825   3885   2113   1975   3685   6828  ...   \n",
       "\n",
       "     Hour16  Hour17  Hour18  Hour19  Hour20  Hour21  Hour22  Hour23  Hour24  \\\n",
       "170   24489   23567   25255   23393   20516   16762   15210   13659   11193   \n",
       "62    21183   23734   22400   18699   15982   13419   13441    8465    5516   \n",
       "262   15870   15680   14245   11508    8559    6201    4671    3800    2952   \n",
       "11    24006   23587   23474   21923   19183   15043   14168   13287   10451   \n",
       "240   23565   22639   21147   18208   15790   13190   10723    7453    5371   \n",
       "\n",
       "     NumVehicles  \n",
       "170       415149  \n",
       "62        328906  \n",
       "262       219728  \n",
       "11        402114  \n",
       "240       319040  \n",
       "\n",
       "[5 rows x 28 columns]"
      ]
     },
     "execution_count": 10,
     "metadata": {},
     "output_type": "execute_result"
    }
   ],
   "source": [
    "grouped_traffic.sample(5)"
   ]
  },
  {
   "cell_type": "markdown",
   "metadata": {},
   "source": [
    "# ----------------------------------------------------------------------------------------------------------------------------------------------------------------------------------------\n",
    "## Visualize the Distribution of Data - Bring in Tableau Visualization\n",
    "# ----------------------------------------------------------------------------------------------------------------------------------------------------------------------------------------"
   ]
  },
  {
   "cell_type": "code",
   "execution_count": 11,
   "metadata": {
    "scrolled": false
   },
   "outputs": [
    {
     "data": {
      "text/html": [
       "<div class='tableauPlaceholder' id='viz1596763938375' style='position: relative'><noscript><a href='#'><img alt=' ' src='https:&#47;&#47;public.tableau.com&#47;static&#47;images&#47;5B&#47;5BRFQMPTH&#47;1_rss.png' style='border: none' /></a></noscript><object class='tableauViz'  style='display:none;'><param name='host_url' value='https%3A%2F%2Fpublic.tableau.com%2F' /> <param name='embed_code_version' value='3' /> <param name='path' value='shared&#47;5BRFQMPTH' /> <param name='toolbar' value='yes' /><param name='static_image' value='https:&#47;&#47;public.tableau.com&#47;static&#47;images&#47;5B&#47;5BRFQMPTH&#47;1.png' /> <param name='animate_transition' value='yes' /><param name='display_static_image' value='yes' /><param name='display_spinner' value='yes' /><param name='display_overlay' value='yes' /><param name='display_count' value='yes' /><param name='language' value='en' /></object></div>                <script type='text/javascript'>                    var divElement = document.getElementById('viz1596763938375');                    var vizElement = divElement.getElementsByTagName('object')[0];                    vizElement.style.width='100%';vizElement.style.height=(divElement.offsetWidth*0.75)+'px';                    var scriptElement = document.createElement('script');                    scriptElement.src = 'https://public.tableau.com/javascripts/api/viz_v1.js';                    vizElement.parentNode.insertBefore(scriptElement, vizElement);                </script>\n"
      ],
      "text/plain": [
       "<IPython.core.display.HTML object>"
      ]
     },
     "metadata": {},
     "output_type": "display_data"
    }
   ],
   "source": [
    "%%HTML\n",
    "<div class='tableauPlaceholder' id='viz1596763938375' style='position: relative'><noscript><a href='#'><img alt=' ' src='https:&#47;&#47;public.tableau.com&#47;static&#47;images&#47;5B&#47;5BRFQMPTH&#47;1_rss.png' style='border: none' /></a></noscript><object class='tableauViz'  style='display:none;'><param name='host_url' value='https%3A%2F%2Fpublic.tableau.com%2F' /> <param name='embed_code_version' value='3' /> <param name='path' value='shared&#47;5BRFQMPTH' /> <param name='toolbar' value='yes' /><param name='static_image' value='https:&#47;&#47;public.tableau.com&#47;static&#47;images&#47;5B&#47;5BRFQMPTH&#47;1.png' /> <param name='animate_transition' value='yes' /><param name='display_static_image' value='yes' /><param name='display_spinner' value='yes' /><param name='display_overlay' value='yes' /><param name='display_count' value='yes' /><param name='language' value='en' /></object></div>                <script type='text/javascript'>                    var divElement = document.getElementById('viz1596763938375');                    var vizElement = divElement.getElementsByTagName('object')[0];                    vizElement.style.width='100%';vizElement.style.height=(divElement.offsetWidth*0.75)+'px';                    var scriptElement = document.createElement('script');                    scriptElement.src = 'https://public.tableau.com/javascripts/api/viz_v1.js';                    vizElement.parentNode.insertBefore(scriptElement, vizElement);                </script>"
   ]
  },
  {
   "cell_type": "markdown",
   "metadata": {},
   "source": [
    "### In the visualization above, each dots represent the total traffic volumes for one day across the three sites for a given hour. Orange dots represent days that took place in 2020, and blue dots represent days in 2018 and 2019. It quickly becomes clear that many of the low traffic volumes occurred in 2020. However, several of the lowest volume days took place in February 2019, during Seattle's infamous Snowmaggedon: https://www.seattleweatherblog.com/snow/biggest-february-snowstorm-decades-blankets-seattle/\n",
    "\n",
    "### Hovering over the dots provides additional information, including the date, traffic volumes for each site, and direction of traffic."
   ]
  },
  {
   "cell_type": "markdown",
   "metadata": {},
   "source": [
    "# ----------------------------------------------------------------------------------------------------------------------------------------------------------------------------------------\n",
    "## Is there a statistical difference in the difference in traffic volumes in 2020 compared with the 2018-2019 period?\n",
    "# ----------------------------------------------------------------------------------------------------------------------------------------------------------------------------------------"
   ]
  },
  {
   "cell_type": "markdown",
   "metadata": {},
   "source": [
    "# ----------------------------------------------------------------------------------------------------------------------------------------------------------------------------------------\n",
    "## Alpha Level = .01\n",
    "## Null Hypothesis: There has been no change in mean daily traffic volumes in Seattle, Washington during the coronavirus pandemic compared to the same period in prior years.\n",
    "## Alternative Hypothesis: There has been a decrease in mean daily traffic volumes in Seattle, Washington during the coronavirus pandemic compared to the same period in prior years.\n",
    "# ----------------------------------------------------------------------------------------------------------------------------------------------------------------------------------------"
   ]
  },
  {
   "cell_type": "markdown",
   "metadata": {},
   "source": [
    "# ----------------------------------------------------------------------------------------------------------------------------------------------------------------------------------------\n",
    "## Statistical Significance for Jan-Mar 2018 & 2019 vs 2020; All Days\n",
    "# ----------------------------------------------------------------------------------------------------------------------------------------------------------------------------------------"
   ]
  },
  {
   "cell_type": "code",
   "execution_count": 12,
   "metadata": {},
   "outputs": [],
   "source": [
    "# Split traffic into 2018-2019 grouping and 2020 grouping\n",
    "traffic_2020 = grouped_traffic.loc[grouped_traffic['Year'] == 2020]\n",
    "traffic_2018_2019 = grouped_traffic.loc[grouped_traffic['Year'] != 2020]"
   ]
  },
  {
   "cell_type": "code",
   "execution_count": 13,
   "metadata": {},
   "outputs": [
    {
     "data": {
      "text/plain": [
       "(72685.85764798863, 52951.62506616298)"
      ]
     },
     "execution_count": 13,
     "metadata": {},
     "output_type": "execute_result"
    }
   ],
   "source": [
    "# Distribution of Traffic Volumes across the two groups measured by standard deviation\n",
    "np.std(traffic_2020['NumVehicles']), np.std(traffic_2018_2019['NumVehicles'])"
   ]
  },
  {
   "cell_type": "code",
   "execution_count": 14,
   "metadata": {},
   "outputs": [],
   "source": [
    "# The standard deviations are not equal - should use Welch's 2 sample, one-sided t-test.\n",
    "# Create a function that calculates a one-tailed Welch's test statistic \n",
    "def tstat(group1, group2):\n",
    "    avg_g1 = np.mean(group1['NumVehicles'])\n",
    "    avg_g2 = np.mean(group2['NumVehicles'])\n",
    "\n",
    "    std_g1 = np.std(group1['NumVehicles'], ddof = 1)\n",
    "    std_g2 = np.std(group2['NumVehicles'], ddof = 1)\n",
    "\n",
    "    num_obs_g1 = len(group1['NumVehicles'])\n",
    "    num_obs_g2 = len(group2['NumVehicles'])\n",
    "    \n",
    "    numerator = avg_g1 - avg_g2\n",
    "    denominator = np.sqrt( (std_g1**2/num_obs_g1) + (std_g2**2/num_obs_g2) )\n",
    "\n",
    "    degrees_freedom = ((std_g1**2/num_obs_g1) + \n",
    "                       (std_g2**2/num_obs_g2))**2 / ((std_g1**4)/((num_obs_g1**2)*(num_obs_g1-1)) +\n",
    "                                                     (std_g2**4)/((num_obs_g2**2)*(num_obs_g2-1)))\n",
    "\n",
    "    welchs_t_stat = numerator/denominator\n",
    "    \n",
    "    return welchs_t_stat, degrees_freedom"
   ]
  },
  {
   "cell_type": "code",
   "execution_count": 15,
   "metadata": {},
   "outputs": [
    {
     "name": "stdout",
     "output_type": "stream",
     "text": [
      "T-Statistic:-4.860992575933441\n",
      "Degrees of Freedom: 139.44691079383293\n"
     ]
    }
   ],
   "source": [
    "print(\"T-Statistic:{}\\nDegrees of Freedom: {}\".format(tstat(traffic_2020, traffic_2018_2019)[0],\n",
    "                                                      tstat(traffic_2020, traffic_2018_2019)[1]))"
   ]
  },
  {
   "cell_type": "code",
   "execution_count": 16,
   "metadata": {},
   "outputs": [
    {
     "name": "stdout",
     "output_type": "stream",
     "text": [
      "P Value: 0.0000015521\n"
     ]
    }
   ],
   "source": [
    "jfm_pval = stats.t.sf(np.abs(tstat(traffic_2020, traffic_2018_2019)[0]), tstat(traffic_2020, traffic_2018_2019)[1])\n",
    "print(\"P Value: {}\".format('%.10f' % jfm_pval))"
   ]
  },
  {
   "cell_type": "markdown",
   "metadata": {},
   "source": [
    "# ----------------------------------------------------------------------------------------------------------------------------------------------------------------------------------------\n",
    "## We Can Reject the Null Hypothesis\n",
    "# ----------------------------------------------------------------------------------------------------------------------------------------------------------------------------------------"
   ]
  },
  {
   "cell_type": "markdown",
   "metadata": {},
   "source": [
    "# ----------------------------------------------------------------------------------------------------------------------------------------------------------------------------------------\n",
    "## Statistical Significance for Jan-Mar 2018 & 2019 vs 2020; Weekdays Only\n",
    "# ----------------------------------------------------------------------------------------------------------------------------------------------------------------------------------------"
   ]
  },
  {
   "cell_type": "code",
   "execution_count": 17,
   "metadata": {},
   "outputs": [],
   "source": [
    "# Create a copy of the dataframe\n",
    "jfm_traffic_weekdays = jfm_traffic.copy()"
   ]
  },
  {
   "cell_type": "code",
   "execution_count": 18,
   "metadata": {},
   "outputs": [],
   "source": [
    "# Remove Saturday and Sundays from the data\n",
    "jfm_traffic_weekdays = jfm_traffic_weekdays.loc[(jfm_traffic_weekdays.DayOfWeek != 'Saturday') & \n",
    "                                                (jfm_traffic_weekdays.DayOfWeek != 'Sunday')]"
   ]
  },
  {
   "cell_type": "code",
   "execution_count": 19,
   "metadata": {},
   "outputs": [
    {
     "data": {
      "text/html": [
       "<div>\n",
       "<style scoped>\n",
       "    .dataframe tbody tr th:only-of-type {\n",
       "        vertical-align: middle;\n",
       "    }\n",
       "\n",
       "    .dataframe tbody tr th {\n",
       "        vertical-align: top;\n",
       "    }\n",
       "\n",
       "    .dataframe thead th {\n",
       "        text-align: right;\n",
       "    }\n",
       "</style>\n",
       "<table border=\"1\" class=\"dataframe\">\n",
       "  <thead>\n",
       "    <tr style=\"text-align: right;\">\n",
       "      <th></th>\n",
       "      <th>Year</th>\n",
       "      <th>Month</th>\n",
       "      <th>Day</th>\n",
       "      <th>Hour1</th>\n",
       "      <th>Hour2</th>\n",
       "      <th>Hour3</th>\n",
       "      <th>Hour4</th>\n",
       "      <th>Hour5</th>\n",
       "      <th>Hour6</th>\n",
       "      <th>Hour7</th>\n",
       "      <th>...</th>\n",
       "      <th>Hour16</th>\n",
       "      <th>Hour17</th>\n",
       "      <th>Hour18</th>\n",
       "      <th>Hour19</th>\n",
       "      <th>Hour20</th>\n",
       "      <th>Hour21</th>\n",
       "      <th>Hour22</th>\n",
       "      <th>Hour23</th>\n",
       "      <th>Hour24</th>\n",
       "      <th>NumVehicles</th>\n",
       "    </tr>\n",
       "  </thead>\n",
       "  <tbody>\n",
       "    <tr>\n",
       "      <td>99</td>\n",
       "      <td>2019</td>\n",
       "      <td>2</td>\n",
       "      <td>18</td>\n",
       "      <td>4163</td>\n",
       "      <td>2414</td>\n",
       "      <td>1966</td>\n",
       "      <td>1955</td>\n",
       "      <td>4343</td>\n",
       "      <td>9048</td>\n",
       "      <td>14794</td>\n",
       "      <td>...</td>\n",
       "      <td>23448</td>\n",
       "      <td>23973</td>\n",
       "      <td>23258</td>\n",
       "      <td>20532</td>\n",
       "      <td>16560</td>\n",
       "      <td>13050</td>\n",
       "      <td>11098</td>\n",
       "      <td>8349</td>\n",
       "      <td>6231</td>\n",
       "      <td>347022</td>\n",
       "    </tr>\n",
       "    <tr>\n",
       "      <td>192</td>\n",
       "      <td>2020</td>\n",
       "      <td>3</td>\n",
       "      <td>30</td>\n",
       "      <td>1433</td>\n",
       "      <td>898</td>\n",
       "      <td>797</td>\n",
       "      <td>958</td>\n",
       "      <td>2223</td>\n",
       "      <td>4851</td>\n",
       "      <td>8850</td>\n",
       "      <td>...</td>\n",
       "      <td>11155</td>\n",
       "      <td>11847</td>\n",
       "      <td>11233</td>\n",
       "      <td>8493</td>\n",
       "      <td>6677</td>\n",
       "      <td>4854</td>\n",
       "      <td>3545</td>\n",
       "      <td>2797</td>\n",
       "      <td>2174</td>\n",
       "      <td>162048</td>\n",
       "    </tr>\n",
       "    <tr>\n",
       "      <td>49</td>\n",
       "      <td>2018</td>\n",
       "      <td>3</td>\n",
       "      <td>9</td>\n",
       "      <td>4001</td>\n",
       "      <td>2424</td>\n",
       "      <td>2040</td>\n",
       "      <td>2366</td>\n",
       "      <td>5009</td>\n",
       "      <td>11021</td>\n",
       "      <td>21423</td>\n",
       "      <td>...</td>\n",
       "      <td>23452</td>\n",
       "      <td>25079</td>\n",
       "      <td>25286</td>\n",
       "      <td>23029</td>\n",
       "      <td>20526</td>\n",
       "      <td>16089</td>\n",
       "      <td>15495</td>\n",
       "      <td>13766</td>\n",
       "      <td>11892</td>\n",
       "      <td>415586</td>\n",
       "    </tr>\n",
       "    <tr>\n",
       "      <td>67</td>\n",
       "      <td>2019</td>\n",
       "      <td>1</td>\n",
       "      <td>3</td>\n",
       "      <td>3617</td>\n",
       "      <td>2240</td>\n",
       "      <td>2035</td>\n",
       "      <td>2199</td>\n",
       "      <td>5048</td>\n",
       "      <td>10850</td>\n",
       "      <td>19036</td>\n",
       "      <td>...</td>\n",
       "      <td>21159</td>\n",
       "      <td>21676</td>\n",
       "      <td>22876</td>\n",
       "      <td>20602</td>\n",
       "      <td>16698</td>\n",
       "      <td>13046</td>\n",
       "      <td>11677</td>\n",
       "      <td>8799</td>\n",
       "      <td>6013</td>\n",
       "      <td>363851</td>\n",
       "    </tr>\n",
       "    <tr>\n",
       "      <td>37</td>\n",
       "      <td>2018</td>\n",
       "      <td>2</td>\n",
       "      <td>21</td>\n",
       "      <td>3570</td>\n",
       "      <td>2149</td>\n",
       "      <td>1800</td>\n",
       "      <td>2232</td>\n",
       "      <td>4977</td>\n",
       "      <td>11163</td>\n",
       "      <td>21160</td>\n",
       "      <td>...</td>\n",
       "      <td>23756</td>\n",
       "      <td>25480</td>\n",
       "      <td>25618</td>\n",
       "      <td>23192</td>\n",
       "      <td>18018</td>\n",
       "      <td>14192</td>\n",
       "      <td>12429</td>\n",
       "      <td>9032</td>\n",
       "      <td>5846</td>\n",
       "      <td>393581</td>\n",
       "    </tr>\n",
       "  </tbody>\n",
       "</table>\n",
       "<p>5 rows × 28 columns</p>\n",
       "</div>"
      ],
      "text/plain": [
       "     Year  Month  Day  Hour1  Hour2  Hour3  Hour4  Hour5  Hour6  Hour7  ...  \\\n",
       "99   2019      2   18   4163   2414   1966   1955   4343   9048  14794  ...   \n",
       "192  2020      3   30   1433    898    797    958   2223   4851   8850  ...   \n",
       "49   2018      3    9   4001   2424   2040   2366   5009  11021  21423  ...   \n",
       "67   2019      1    3   3617   2240   2035   2199   5048  10850  19036  ...   \n",
       "37   2018      2   21   3570   2149   1800   2232   4977  11163  21160  ...   \n",
       "\n",
       "     Hour16  Hour17  Hour18  Hour19  Hour20  Hour21  Hour22  Hour23  Hour24  \\\n",
       "99    23448   23973   23258   20532   16560   13050   11098    8349    6231   \n",
       "192   11155   11847   11233    8493    6677    4854    3545    2797    2174   \n",
       "49    23452   25079   25286   23029   20526   16089   15495   13766   11892   \n",
       "67    21159   21676   22876   20602   16698   13046   11677    8799    6013   \n",
       "37    23756   25480   25618   23192   18018   14192   12429    9032    5846   \n",
       "\n",
       "     NumVehicles  \n",
       "99        347022  \n",
       "192       162048  \n",
       "49        415586  \n",
       "67        363851  \n",
       "37        393581  \n",
       "\n",
       "[5 rows x 28 columns]"
      ]
     },
     "execution_count": 19,
     "metadata": {},
     "output_type": "execute_result"
    }
   ],
   "source": [
    "# Group the data by date and add a column to calculate the total number of vehicles per day for each observation.\n",
    "grouped_traffic_weekdays = jfm_traffic_weekdays.groupby(['Year','Month','Day'], as_index= False).sum()\n",
    "grouped_traffic_weekdays['NumVehicles'] = grouped_traffic_weekdays.iloc[:,3:27].sum(axis=1)\n",
    "grouped_traffic_weekdays.sample(5)"
   ]
  },
  {
   "cell_type": "code",
   "execution_count": 20,
   "metadata": {},
   "outputs": [],
   "source": [
    "# Split traffic into 2018-2019 grouping and 2020 grouping\n",
    "traffic_2020_weekdays = grouped_traffic_weekdays.loc[grouped_traffic_weekdays['Year'] == 2020]\n",
    "traffic_2018_2019_weekdays = grouped_traffic_weekdays.loc[grouped_traffic_weekdays['Year'] != 2020]"
   ]
  },
  {
   "cell_type": "code",
   "execution_count": 21,
   "metadata": {},
   "outputs": [
    {
     "name": "stdout",
     "output_type": "stream",
     "text": [
      "T-Statistic:-6.610581861391088\n",
      "Degrees of Freedom: 138.02999324299105\n"
     ]
    }
   ],
   "source": [
    "print(\"T-Statistic:{}\\nDegrees of Freedom: {}\".format(tstat(traffic_2020, traffic_2018_2019_weekdays)[0],\n",
    "                                                      tstat(traffic_2020, traffic_2018_2019_weekdays)[1]))"
   ]
  },
  {
   "cell_type": "code",
   "execution_count": 22,
   "metadata": {},
   "outputs": [
    {
     "name": "stdout",
     "output_type": "stream",
     "text": [
      "P Value: 0.0000148979\n"
     ]
    }
   ],
   "source": [
    "weekday_pval = stats.t.sf(np.abs(tstat(traffic_2020_weekdays, traffic_2018_2019_weekdays)[0]), \n",
    "                  tstat(traffic_2020_weekdays, traffic_2018_2019_weekdays)[1])\n",
    "print(\"P Value: {}\".format('%.10f' % weekday_pval))"
   ]
  },
  {
   "cell_type": "markdown",
   "metadata": {},
   "source": [
    "# ----------------------------------------------------------------------------------------------------------------------------------------------------------------------------------------\n",
    "## We can Reject the Null Hypothesis\n",
    "# ----------------------------------------------------------------------------------------------------------------------------------------------------------------------------------------"
   ]
  },
  {
   "cell_type": "markdown",
   "metadata": {},
   "source": [
    "# ----------------------------------------------------------------------------------------------------------------------------------------------------------------------------------------\n",
    "## Statistical Significance for Mar 2018 & 2019 vs Mar 2020 Weekdays Only\n",
    "# ----------------------------------------------------------------------------------------------------------------------------------------------------------------------------------------"
   ]
  },
  {
   "cell_type": "code",
   "execution_count": 23,
   "metadata": {},
   "outputs": [
    {
     "data": {
      "text/html": [
       "<div>\n",
       "<style scoped>\n",
       "    .dataframe tbody tr th:only-of-type {\n",
       "        vertical-align: middle;\n",
       "    }\n",
       "\n",
       "    .dataframe tbody tr th {\n",
       "        vertical-align: top;\n",
       "    }\n",
       "\n",
       "    .dataframe thead th {\n",
       "        text-align: right;\n",
       "    }\n",
       "</style>\n",
       "<table border=\"1\" class=\"dataframe\">\n",
       "  <thead>\n",
       "    <tr style=\"text-align: right;\">\n",
       "      <th></th>\n",
       "      <th>Year</th>\n",
       "      <th>Month</th>\n",
       "      <th>Day</th>\n",
       "      <th>Hour1</th>\n",
       "      <th>Hour2</th>\n",
       "      <th>Hour3</th>\n",
       "      <th>Hour4</th>\n",
       "      <th>Hour5</th>\n",
       "      <th>Hour6</th>\n",
       "      <th>Hour7</th>\n",
       "      <th>...</th>\n",
       "      <th>Hour16</th>\n",
       "      <th>Hour17</th>\n",
       "      <th>Hour18</th>\n",
       "      <th>Hour19</th>\n",
       "      <th>Hour20</th>\n",
       "      <th>Hour21</th>\n",
       "      <th>Hour22</th>\n",
       "      <th>Hour23</th>\n",
       "      <th>Hour24</th>\n",
       "      <th>NumVehicles</th>\n",
       "    </tr>\n",
       "  </thead>\n",
       "  <tbody>\n",
       "    <tr>\n",
       "      <td>19</td>\n",
       "      <td>2018</td>\n",
       "      <td>3</td>\n",
       "      <td>28</td>\n",
       "      <td>3723</td>\n",
       "      <td>2322</td>\n",
       "      <td>2013</td>\n",
       "      <td>2344</td>\n",
       "      <td>4730</td>\n",
       "      <td>11687</td>\n",
       "      <td>21594</td>\n",
       "      <td>...</td>\n",
       "      <td>23471</td>\n",
       "      <td>24468</td>\n",
       "      <td>25255</td>\n",
       "      <td>25070</td>\n",
       "      <td>20273</td>\n",
       "      <td>16441</td>\n",
       "      <td>14624</td>\n",
       "      <td>10709</td>\n",
       "      <td>6959</td>\n",
       "      <td>410063</td>\n",
       "    </tr>\n",
       "    <tr>\n",
       "      <td>45</td>\n",
       "      <td>2020</td>\n",
       "      <td>3</td>\n",
       "      <td>4</td>\n",
       "      <td>3025</td>\n",
       "      <td>1869</td>\n",
       "      <td>1721</td>\n",
       "      <td>2062</td>\n",
       "      <td>5183</td>\n",
       "      <td>11742</td>\n",
       "      <td>22290</td>\n",
       "      <td>...</td>\n",
       "      <td>23909</td>\n",
       "      <td>25293</td>\n",
       "      <td>25787</td>\n",
       "      <td>22392</td>\n",
       "      <td>17893</td>\n",
       "      <td>13788</td>\n",
       "      <td>11882</td>\n",
       "      <td>8433</td>\n",
       "      <td>6025</td>\n",
       "      <td>384954</td>\n",
       "    </tr>\n",
       "    <tr>\n",
       "      <td>7</td>\n",
       "      <td>2018</td>\n",
       "      <td>3</td>\n",
       "      <td>12</td>\n",
       "      <td>3491</td>\n",
       "      <td>2122</td>\n",
       "      <td>1801</td>\n",
       "      <td>2117</td>\n",
       "      <td>5075</td>\n",
       "      <td>11195</td>\n",
       "      <td>21040</td>\n",
       "      <td>...</td>\n",
       "      <td>24321</td>\n",
       "      <td>24444</td>\n",
       "      <td>25631</td>\n",
       "      <td>22492</td>\n",
       "      <td>18026</td>\n",
       "      <td>14755</td>\n",
       "      <td>12632</td>\n",
       "      <td>8684</td>\n",
       "      <td>5632</td>\n",
       "      <td>391448</td>\n",
       "    </tr>\n",
       "    <tr>\n",
       "      <td>52</td>\n",
       "      <td>2020</td>\n",
       "      <td>3</td>\n",
       "      <td>13</td>\n",
       "      <td>3069</td>\n",
       "      <td>2089</td>\n",
       "      <td>1954</td>\n",
       "      <td>1854</td>\n",
       "      <td>4288</td>\n",
       "      <td>9410</td>\n",
       "      <td>15716</td>\n",
       "      <td>...</td>\n",
       "      <td>19409</td>\n",
       "      <td>19739</td>\n",
       "      <td>19601</td>\n",
       "      <td>17100</td>\n",
       "      <td>14183</td>\n",
       "      <td>10896</td>\n",
       "      <td>9368</td>\n",
       "      <td>7882</td>\n",
       "      <td>6449</td>\n",
       "      <td>310587</td>\n",
       "    </tr>\n",
       "    <tr>\n",
       "      <td>62</td>\n",
       "      <td>2020</td>\n",
       "      <td>3</td>\n",
       "      <td>27</td>\n",
       "      <td>1481</td>\n",
       "      <td>1070</td>\n",
       "      <td>1091</td>\n",
       "      <td>1151</td>\n",
       "      <td>2139</td>\n",
       "      <td>4738</td>\n",
       "      <td>8425</td>\n",
       "      <td>...</td>\n",
       "      <td>12129</td>\n",
       "      <td>12145</td>\n",
       "      <td>11943</td>\n",
       "      <td>9674</td>\n",
       "      <td>7654</td>\n",
       "      <td>5736</td>\n",
       "      <td>4178</td>\n",
       "      <td>3273</td>\n",
       "      <td>2683</td>\n",
       "      <td>171821</td>\n",
       "    </tr>\n",
       "  </tbody>\n",
       "</table>\n",
       "<p>5 rows × 28 columns</p>\n",
       "</div>"
      ],
      "text/plain": [
       "    Year  Month  Day  Hour1  Hour2  Hour3  Hour4  Hour5  Hour6  Hour7  ...  \\\n",
       "19  2018      3   28   3723   2322   2013   2344   4730  11687  21594  ...   \n",
       "45  2020      3    4   3025   1869   1721   2062   5183  11742  22290  ...   \n",
       "7   2018      3   12   3491   2122   1801   2117   5075  11195  21040  ...   \n",
       "52  2020      3   13   3069   2089   1954   1854   4288   9410  15716  ...   \n",
       "62  2020      3   27   1481   1070   1091   1151   2139   4738   8425  ...   \n",
       "\n",
       "    Hour16  Hour17  Hour18  Hour19  Hour20  Hour21  Hour22  Hour23  Hour24  \\\n",
       "19   23471   24468   25255   25070   20273   16441   14624   10709    6959   \n",
       "45   23909   25293   25787   22392   17893   13788   11882    8433    6025   \n",
       "7    24321   24444   25631   22492   18026   14755   12632    8684    5632   \n",
       "52   19409   19739   19601   17100   14183   10896    9368    7882    6449   \n",
       "62   12129   12145   11943    9674    7654    5736    4178    3273    2683   \n",
       "\n",
       "    NumVehicles  \n",
       "19       410063  \n",
       "45       384954  \n",
       "7        391448  \n",
       "52       310587  \n",
       "62       171821  \n",
       "\n",
       "[5 rows x 28 columns]"
      ]
     },
     "execution_count": 23,
     "metadata": {},
     "output_type": "execute_result"
    }
   ],
   "source": [
    "# Follow similar steps above, grouping by date and creating a column to calculate \n",
    "# the total number of vehicles per day for each observation. Then exlude January and February.\n",
    "mar_traffic_weekdays = jfm_traffic_weekdays.copy()\n",
    "mar_traffic_weekdays = mar_traffic_weekdays[(pd.DatetimeIndex(mar_traffic_weekdays.Date).month == 3)]\n",
    "mar_grouped_traffic_weekdays = mar_traffic_weekdays.groupby(['Year','Month','Day'], as_index= False).sum()\n",
    "mar_grouped_traffic_weekdays['NumVehicles'] = mar_grouped_traffic_weekdays.iloc[:,3:27].sum(axis=1)\n",
    "mar_grouped_traffic_weekdays.sample(5)"
   ]
  },
  {
   "cell_type": "code",
   "execution_count": 24,
   "metadata": {},
   "outputs": [],
   "source": [
    "# Split traffic into 2018-2019 grouping and 2020 grouping\n",
    "mar_traffic_2020_weekdays = mar_grouped_traffic_weekdays.loc[mar_grouped_traffic_weekdays['Year'] == 2020]\n",
    "mar_traffic_2018_2019_weekdays = mar_grouped_traffic_weekdays.loc[mar_grouped_traffic_weekdays['Year'] != 2020]"
   ]
  },
  {
   "cell_type": "code",
   "execution_count": 25,
   "metadata": {},
   "outputs": [
    {
     "name": "stdout",
     "output_type": "stream",
     "text": [
      "T-Statistic:-7.623467693739753\n",
      "Degrees of Freedom: 21.54773080278684\n"
     ]
    }
   ],
   "source": [
    "print(\"T-Statistic:{}\\nDegrees of Freedom: {}\".format(tstat(mar_traffic_2020_weekdays, mar_traffic_2018_2019_weekdays)[0],\n",
    "                                                      tstat(mar_traffic_2020_weekdays, mar_traffic_2018_2019_weekdays)[1]))"
   ]
  },
  {
   "cell_type": "code",
   "execution_count": 26,
   "metadata": {},
   "outputs": [
    {
     "name": "stdout",
     "output_type": "stream",
     "text": [
      "P Value: 0.0000000746\n"
     ]
    }
   ],
   "source": [
    "mar_weekday_pval = stats.t.sf(np.abs(tstat(mar_traffic_2020_weekdays, mar_traffic_2018_2019_weekdays)[0]), \n",
    "                  tstat(mar_traffic_2020_weekdays, mar_traffic_2018_2019_weekdays)[1])\n",
    "print(\"P Value: {}\".format('%.10f' % mar_weekday_pval))"
   ]
  },
  {
   "cell_type": "markdown",
   "metadata": {},
   "source": [
    "# ----------------------------------------------------------------------------------------------------------------------------------------------------------------------------------------\n",
    "## We can Reject the Null Hypothesis\n",
    "# ----------------------------------------------------------------------------------------------------------------------------------------------------------------------------------------"
   ]
  },
  {
   "cell_type": "code",
   "execution_count": 27,
   "metadata": {},
   "outputs": [
    {
     "name": "stdout",
     "output_type": "stream",
     "text": [
      "P Value for All Days, January 1 - March 31: 0.0000015521\n",
      "P Value for Weekdays Only, January 1 - March 31: 0.0000148979\n",
      "P Value for Weekdays Only, March 1 - March 31: 0.0000000746\n"
     ]
    }
   ],
   "source": [
    "print(\"P Value for All Days, January 1 - March 31: {}\\nP Value for Weekdays Only, January 1 - March 31: {}\\n\"\n",
    "      \"P Value for Weekdays Only, March 1 - March 31: {}\".format('%.10f' % jfm_pval, '%.10f' % weekday_pval, '%.10f' % mar_weekday_pval))"
   ]
  },
  {
   "cell_type": "markdown",
   "metadata": {},
   "source": [
    "#### All tests yielded statistically significant results at the .01 alpha levels, allowing us to reject the null hypothesis that there has been no change in mean daily traffic volumes in Seattle, Washington during the coronavirus pandemic compared to the same period in prior years. It can be difficult to compare p values when they are so small, so below we rescale them and plot them."
   ]
  },
  {
   "cell_type": "code",
   "execution_count": 28,
   "metadata": {},
   "outputs": [
    {
     "data": {
      "text/plain": [
       "Text(0, 0.5, 'P-Values multiplied by 10M')"
      ]
     },
     "execution_count": 28,
     "metadata": {},
     "output_type": "execute_result"
    },
    {
     "data": {
      "image/png": "[encoded data removed]",
      "text/plain": [
       "<Figure size 576x576 with 1 Axes>"
      ]
     },
     "metadata": {
      "needs_background": "light"
     },
     "output_type": "display_data"
    }
   ],
   "source": [
    "plt.figure(figsize=(8, 8))\n",
    "plt.scatter(['All Months\\nAll Days', 'All Months\\nWeekdays', 'March\\nWeekdays'],\n",
    "            [jfm_pval*10000000, weekday_pval*10000000, mar_weekday_pval*10000000])\n",
    "plt.title('Rescaled P-Values')\n",
    "plt.ylabel('P-Values multiplied by 10M')"
   ]
  },
  {
   "cell_type": "markdown",
   "metadata": {},
   "source": [
    "#### The chart above shows rescaled p values so we can get a sense of the strongest test (lowest p value), which appear to be weekdays in March. This makes sense, as many companies started encouraging employees to work from home in March, and Governor Inslee's Stay Home Order was issued on March 23, 2020."
   ]
  },
  {
   "cell_type": "markdown",
   "metadata": {},
   "source": [
    "# Notes"
   ]
  },
  {
   "cell_type": "markdown",
   "metadata": {},
   "source": [
    "## OVERVIEW, STEPS, AND PROCESS FOR NOT INCLUDING ALL SITES AND IMPUTING MISSING VALUES\n",
    "----------------------------------------------------------------------------------------------------------------------------------------------------------------------------------------\n",
    "\n",
    "\n",
    "### ISSUES WITH SITES\n",
    "-----------------\n",
    "- Site D10 did not have any data for February 2019\n",
    "- Site R49R did not have any data for January 2020\n",
    "- Site R017 did not have any data for westbound traffic in March 2018\n",
    "- Site S202 did not have any data for northbound traffic in 2018 or southbound traffic in 2019\n",
    "\n",
    "All of these sites are excluded from the analysis\n",
    "\n",
    "### IMPUTING MISSING VALUES FOR REMAINING SITES\n",
    "-------------------------------------------\n",
    "The remaining sites (R046, R117, and S502) all had missing data values for certain days or direction (north/south, east/west)\n",
    "on a certain day. These missing values were imputed by calculating the mean traffic volumes for that day of the week on the\n",
    "year/month combination. For example, if there was no data for Sunday March 11, 2018, the mean traffic volume for Sundays in\n",
    "March of 2018 was calculated and assumed to be the traffic volume for that day. The time of day was ignored, and each hour\n",
    "was given the same traffic volume such that each hour summed together for Sunday March 11, 2018 would equal the average traffic\n",
    "volume for Sundays in March 2018. To ensure that values were whole numbers and estimates were conservate, the FLOOR function was used\"\n",
    "FLOOR((Avg Num Vehicles/24),1)\n",
    "\n",
    "### For the sites that were included in the analysis, the following days and directions had missing values:\n",
    "---------\n",
    "- Site R046:\n",
    "    - March 11, 2018\n",
    "    - March 25, 2018 (southbound only)\n",
    "    - February 23, 2019 (northbound only)\n",
    "    - March 10, 2019\n",
    "    - January 17, 2020 (southbound only\n",
    "    - March 8, 2020\n",
    "\n",
    "---------\n",
    "- Site R117:\n",
    "    - February 18, 2018 (westbound only)\n",
    "    - March 11, 2018\n",
    "    - March 10, 2019\n",
    "    - February 4, 2020 (westbound only)\n",
    "    - February 5, 2020 (westbound only)\n",
    "    - February 11, 2020\n",
    "    - February 12, 2020\n",
    "    - March 8, 2020\n",
    "\n",
    "---------\n",
    "- Site S502:\n",
    "    - March 11, 2018\n",
    "    - March 10, 2019\n",
    "    - January 28, 2020 (eastbound only)\n",
    "    - March 8, 2020"
   ]
  },
  {
   "cell_type": "markdown",
   "metadata": {},
   "source": [
    "#### John Wachter | June 6, 2020"
   ]
  }
 ],
 "metadata": {
  "kernelspec": {
   "display_name": "Python 3",
   "language": "python",
   "name": "python3"
  },
  "language_info": {
   "codemirror_mode": {
    "name": "ipython",
    "version": 3
   },
   "file_extension": ".py",
   "mimetype": "text/x-python",
   "name": "python",
   "nbconvert_exporter": "python",
   "pygments_lexer": "ipython3",
   "version": "3.7.4"
  }
 },
 "nbformat": 4,
 "nbformat_minor": 2
}
